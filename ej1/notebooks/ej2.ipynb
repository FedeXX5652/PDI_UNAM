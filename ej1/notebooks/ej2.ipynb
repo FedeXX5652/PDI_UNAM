{
 "cells": [
  {
   "cell_type": "code",
   "execution_count": 17,
   "metadata": {},
   "outputs": [],
   "source": [
    "import numpy as np\n",
    "from tabulate import tabulate"
   ]
  },
  {
   "cell_type": "code",
   "execution_count": 18,
   "metadata": {},
   "outputs": [],
   "source": [
    "class Row:\n",
    "    def __init__(self, x: float, d: float, D: float) -> None:\n",
    "        self.k1 = 3.485981584065905\n",
    "        self.k2 = 0.009012074727961039\n",
    "        self.k3 = 0.01171875\n",
    "\n",
    "        self.wm: float = self.k1 * self.k2 * np.exp(self.k2 * x)\n",
    "        self.fm: float = self.wm * (1 / (2 * np.pi))\n",
    "        self.alpha: float = np.arctan(d / D)\n",
    "        self.fd: float = self.fm * (1 / self.alpha)"
   ]
  },
  {
   "cell_type": "code",
   "execution_count": 19,
   "metadata": {},
   "outputs": [],
   "source": [
    "def create_table(distances, x, D):\n",
    "    # Create the headers row\n",
    "    headers = [\"Distancia (m)\", \"Frecuencia Maxima\\n Observada\",\"wm [rad/pix]\", \"fm [ciclos/pix]\", \"alpha [grad/pix]\", \"fd [ciclos/grad]\"]\n",
    "\n",
    "    # Generate rows for the table\n",
    "    table_data = []\n",
    "    for i in range(len(distances)):\n",
    "        row = Row(x[i], distances[i], D)\n",
    "        table_data.append([f\"{distances[i]} m\", f'{x[i]}', f\"{row.wm:.4f}\", f\"{row.fm:.4f}\", f\"{row.alpha:.4f}\", f\"{row.fd:.4f}\"])\n",
    "\n",
    "    # Print the table with tabulate\n",
    "    print(tabulate(table_data, headers=headers, tablefmt=\"pretty\"))"
   ]
  },
  {
   "cell_type": "code",
   "execution_count": 20,
   "metadata": {},
   "outputs": [
    {
     "name": "stdout",
     "output_type": "stream",
     "text": [
      "+---------------+-------------------+--------------+-----------------+------------------+------------------+\n",
      "| Distancia (m) | Frecuencia Maxima | wm [rad/pix] | fm [ciclos/pix] | alpha [grad/pix] | fd [ciclos/grad] |\n",
      "|               |     Observada     |              |                 |                  |                  |\n",
      "+---------------+-------------------+--------------+-----------------+------------------+------------------+\n",
      "|      1 m      |        210        |    0.2085    |     0.0332      |      1.3734      |      0.0242      |\n",
      "|     1.5 m     |        177        |    0.1548    |     0.0246      |      1.4382      |      0.0171      |\n",
      "|      2 m      |        146        |    0.1171    |     0.0186      |      1.4711      |      0.0127      |\n",
      "+---------------+-------------------+--------------+-----------------+------------------+------------------+\n"
     ]
    }
   ],
   "source": [
    "distances = [1, 1.5, 2]\n",
    "x = [210, 177, 146]\n",
    "\n",
    "D = 0.2\n",
    "\n",
    "create_table(distances, x, D)"
   ]
  }
 ],
 "metadata": {
  "kernelspec": {
   "display_name": "env",
   "language": "python",
   "name": "python3"
  },
  "language_info": {
   "codemirror_mode": {
    "name": "ipython",
    "version": 3
   },
   "file_extension": ".py",
   "mimetype": "text/x-python",
   "name": "python",
   "nbconvert_exporter": "python",
   "pygments_lexer": "ipython3",
   "version": "3.8.10"
  }
 },
 "nbformat": 4,
 "nbformat_minor": 2
}
